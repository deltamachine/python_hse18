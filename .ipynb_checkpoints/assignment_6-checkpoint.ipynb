{
 "cells": [
  {
   "cell_type": "markdown",
   "metadata": {
    "_uuid": "c2c998081762b42ae94081adf9b8967141c82ba9"
   },
   "source": [
    "# Assignment 6\n",
    "\n",
    "Develop RNN model in pytorch to solve the following problem:  \n",
    "    \n",
    "1. Detect sarcasm \n",
    "Data from https://www.kaggle.com/sherinclaudia/sarcastic-comments-on-reddit  \n",
    "Your quality metric = accuracy  \n",
    "Randomly select 20% of your data for test set. You can use it only for final perfomance estimation.   \n",
    " \n",
    "\n",
    "Remember, you can use GPU resourses in kaggle kernels."
   ]
  },
  {
   "cell_type": "code",
   "execution_count": 9,
   "metadata": {
    "_uuid": "275e9285913ab8159a019fa24f093d535b2f906f",
    "collapsed": true
   },
   "outputs": [],
   "source": [
    "import pandas as pd\n",
    "import numpy as np\n",
    "import nltk\n",
    "import random\n",
    "import torch as tt\n",
    "import torch.nn as nn\n",
    "import torch.nn.functional as F\n",
    "import torch.optim as optim\n",
    "from string import punctuation\n",
    "from tqdm import tqdm_notebook\n",
    "from torchtext.data import Field, LabelField, BucketIterator, TabularDataset, Iterator, Dataset\n",
    "from sklearn.metrics import accuracy_score\n",
    "\n",
    "import warnings\n",
    "warnings.simplefilter('ignore')\n",
    "\n",
    "SEED = 42\n",
    "np.random.seed(SEED)"
   ]
  },
  {
   "cell_type": "markdown",
   "metadata": {
    "_uuid": "088ba1159848eace70d5b658aebd0ad23ef119e1"
   },
   "source": [
    "## Data"
   ]
  },
  {
   "cell_type": "code",
   "execution_count": 2,
   "metadata": {
    "_uuid": "d242d2661aabbe75b2c96a11245a4cdbf11d8911"
   },
   "outputs": [
    {
     "data": {
      "text/html": [
       "<div>\n",
       "<style scoped>\n",
       "    .dataframe tbody tr th:only-of-type {\n",
       "        vertical-align: middle;\n",
       "    }\n",
       "\n",
       "    .dataframe tbody tr th {\n",
       "        vertical-align: top;\n",
       "    }\n",
       "\n",
       "    .dataframe thead th {\n",
       "        text-align: right;\n",
       "    }\n",
       "</style>\n",
       "<table border=\"1\" class=\"dataframe\">\n",
       "  <thead>\n",
       "    <tr style=\"text-align: right;\">\n",
       "      <th></th>\n",
       "      <th>label</th>\n",
       "      <th>comment</th>\n",
       "      <th>author</th>\n",
       "      <th>subreddit</th>\n",
       "      <th>score</th>\n",
       "      <th>ups</th>\n",
       "      <th>downs</th>\n",
       "      <th>date</th>\n",
       "      <th>created_utc</th>\n",
       "      <th>parent_comment</th>\n",
       "    </tr>\n",
       "  </thead>\n",
       "  <tbody>\n",
       "    <tr>\n",
       "      <th>0</th>\n",
       "      <td>0</td>\n",
       "      <td>NC and NH.</td>\n",
       "      <td>Trumpbart</td>\n",
       "      <td>politics</td>\n",
       "      <td>2</td>\n",
       "      <td>-1</td>\n",
       "      <td>-1</td>\n",
       "      <td>2016-10</td>\n",
       "      <td>2016-10-16 23:55:23</td>\n",
       "      <td>Yeah, I get that argument. At this point, I'd ...</td>\n",
       "    </tr>\n",
       "    <tr>\n",
       "      <th>1</th>\n",
       "      <td>0</td>\n",
       "      <td>You do know west teams play against west teams...</td>\n",
       "      <td>Shbshb906</td>\n",
       "      <td>nba</td>\n",
       "      <td>-4</td>\n",
       "      <td>-1</td>\n",
       "      <td>-1</td>\n",
       "      <td>2016-11</td>\n",
       "      <td>2016-11-01 00:24:10</td>\n",
       "      <td>The blazers and Mavericks (The wests 5 and 6 s...</td>\n",
       "    </tr>\n",
       "    <tr>\n",
       "      <th>2</th>\n",
       "      <td>0</td>\n",
       "      <td>They were underdogs earlier today, but since G...</td>\n",
       "      <td>Creepeth</td>\n",
       "      <td>nfl</td>\n",
       "      <td>3</td>\n",
       "      <td>3</td>\n",
       "      <td>0</td>\n",
       "      <td>2016-09</td>\n",
       "      <td>2016-09-22 21:45:37</td>\n",
       "      <td>They're favored to win.</td>\n",
       "    </tr>\n",
       "    <tr>\n",
       "      <th>3</th>\n",
       "      <td>0</td>\n",
       "      <td>This meme isn't funny none of the \"new york ni...</td>\n",
       "      <td>icebrotha</td>\n",
       "      <td>BlackPeopleTwitter</td>\n",
       "      <td>-8</td>\n",
       "      <td>-1</td>\n",
       "      <td>-1</td>\n",
       "      <td>2016-10</td>\n",
       "      <td>2016-10-18 21:03:47</td>\n",
       "      <td>deadass don't kill my buzz</td>\n",
       "    </tr>\n",
       "    <tr>\n",
       "      <th>4</th>\n",
       "      <td>0</td>\n",
       "      <td>I could use one of those tools.</td>\n",
       "      <td>cush2push</td>\n",
       "      <td>MaddenUltimateTeam</td>\n",
       "      <td>6</td>\n",
       "      <td>-1</td>\n",
       "      <td>-1</td>\n",
       "      <td>2016-12</td>\n",
       "      <td>2016-12-30 17:00:13</td>\n",
       "      <td>Yep can confirm I saw the tool they use for th...</td>\n",
       "    </tr>\n",
       "  </tbody>\n",
       "</table>\n",
       "</div>"
      ],
      "text/plain": [
       "   label                        ...                                                             parent_comment\n",
       "0      0                        ...                          Yeah, I get that argument. At this point, I'd ...\n",
       "1      0                        ...                          The blazers and Mavericks (The wests 5 and 6 s...\n",
       "2      0                        ...                                                    They're favored to win.\n",
       "3      0                        ...                                                 deadass don't kill my buzz\n",
       "4      0                        ...                          Yep can confirm I saw the tool they use for th...\n",
       "\n",
       "[5 rows x 10 columns]"
      ]
     },
     "execution_count": 2,
     "metadata": {},
     "output_type": "execute_result"
    }
   ],
   "source": [
    "df = pd.read_csv('../input/train-balanced-sarcasm.csv',  encoding='ISO-8859-1')\n",
    "df.head()"
   ]
  },
  {
   "cell_type": "code",
   "execution_count": 3,
   "metadata": {
    "_uuid": "4c7a2535289ea2973f8460f842134ba173acebe5",
    "collapsed": true
   },
   "outputs": [],
   "source": [
    "def tokenizer(text):\n",
    "    return [tok for tok in nltk.tokenize.wordpunct_tokenize(text) if tok not in punctuation]"
   ]
  },
  {
   "cell_type": "code",
   "execution_count": 4,
   "metadata": {
    "_uuid": "d2eec84d3d6a153f2f23225f7a465cc3d198ec68",
    "collapsed": true
   },
   "outputs": [],
   "source": [
    "classes = {'0': 0, '1': 1}\n",
    "\n",
    "TEXT = Field(include_lengths=True, batch_first=True, \n",
    "             tokenize=tokenizer,\n",
    "             eos_token='<eos>',\n",
    "             lower=True,\n",
    "             stop_words=nltk.corpus.stopwords.words('english'))\n",
    "\n",
    "LABEL = LabelField(dtype=tt.int64, use_vocab=True, preprocessing=lambda x: classes[x])"
   ]
  },
  {
   "cell_type": "code",
   "execution_count": 5,
   "metadata": {
    "_uuid": "1b02e41cdbf907978c3177e5ab3047818b4ebba8",
    "collapsed": true
   },
   "outputs": [],
   "source": [
    "tb_df = TabularDataset('../input/train-balanced-sarcasm.csv',\n",
    "                       format='csv',\n",
    "                       fields=[('label', LABEL), ('comment', TEXT), (None, None), (None, None), (None, None), (None, None), (None, None), (None, None), (None, None), (None, None)],\n",
    "                       skip_header=True)"
   ]
  },
  {
   "cell_type": "markdown",
   "metadata": {},
   "source": [
    "Используем векторы GloVe размерностью 100."
   ]
  },
  {
   "cell_type": "code",
   "execution_count": 6,
   "metadata": {
    "_uuid": "a4ec0189dcb703569a1d0a275e998dc94c6c3b58",
    "scrolled": true
   },
   "outputs": [
    {
     "data": {
      "text/plain": [
       "28425"
      ]
     },
     "execution_count": 6,
     "metadata": {},
     "output_type": "execute_result"
    }
   ],
   "source": [
    "TEXT.build_vocab(tb_df, 'glove.6B.100d', min_freq=10)\n",
    "len(TEXT.vocab.itos)"
   ]
  },
  {
   "cell_type": "code",
   "execution_count": 7,
   "metadata": {
    "_uuid": "94b0116ba0f79695ed717bc399f508a446a01f3e",
    "collapsed": true
   },
   "outputs": [],
   "source": [
    "LABEL.build_vocab(tb_df)"
   ]
  },
  {
   "cell_type": "code",
   "execution_count": 16,
   "metadata": {
    "_uuid": "0128950d74550ecf35bed1dd422b5430cb892248",
    "collapsed": true
   },
   "outputs": [],
   "source": [
    "train, test = tb_df.split(0.8, stratified=True, random_state=random.getstate())\n",
    "train, valid = train.split(0.8, stratified=True, random_state=random.getstate())"
   ]
  },
  {
   "cell_type": "markdown",
   "metadata": {
    "_uuid": "2fc767fce6d2c727fa95c3a130ae41bb80051397"
   },
   "source": [
    "## Training"
   ]
  },
  {
   "cell_type": "markdown",
   "metadata": {},
   "source": [
    "Нейросеть очень быстро переобучается - буквально после пары итераций. Поэтому, чтобы переобучение происходило все-таки немного позже, добавим к базовой архитектуре дропаут со значением 0.1."
   ]
  },
  {
   "cell_type": "code",
   "execution_count": 24,
   "metadata": {
    "_uuid": "67597052285e13f7ed2934b98e456e88449e06b6",
    "collapsed": true
   },
   "outputs": [],
   "source": [
    "class MyRNN(nn.Module):   \n",
    "    def __init__(self, device, vocab_size, embed_size, hidden_size):\n",
    "        super(MyRNN, self).__init__()\n",
    "        \n",
    "        self.device = device\n",
    "        self.embedding = nn.Embedding(vocab_size, embed_size)\n",
    "\n",
    "        self.rnn = nn.LSTM(input_size=embed_size,\n",
    "                           hidden_size=hidden_size,\n",
    "                           bidirectional=True,\n",
    "                           batch_first=True)\n",
    "        \n",
    "        self.fc = nn.Linear(hidden_size * 2 * 2, 2)\n",
    "        self.dropout = tt.nn.Dropout(0.1)\n",
    "        self.init_weights()\n",
    "        \n",
    "    def init_weights(self):\n",
    "        nn.init.uniform_(self.embedding.weight)\n",
    "        nn.init.xavier_uniform_(self.fc.weight)\n",
    "        nn.init.zeros_(self.fc.bias)\n",
    "        \n",
    "    def forward(self, batch):\n",
    "        x, x_lengths = batch.comment\n",
    "        x = x.to(self.device)\n",
    "        x = self.embedding(x)\n",
    "        \n",
    "        batch.label = batch.label.to(self.device)\n",
    "\n",
    "        if x_lengths is not None:\n",
    "            x_lengths = x_lengths.view(-1).tolist()\n",
    "            x = nn.utils.rnn.pack_padded_sequence(x, x_lengths, batch_first=True)\n",
    "            \n",
    "        _, (hidden, cell) = self.rnn(x)\n",
    "        \n",
    "        hidden = hidden.transpose(0,1)\n",
    "        cell = cell.transpose(0,1)\n",
    "        hidden = hidden.contiguous().view(hidden.size(0),-1)\n",
    "        cell = cell.contiguous().view(cell.size(0),-1)\n",
    "        x = tt.cat([hidden, cell], dim=1).squeeze(1)\n",
    "        \n",
    "        x = self.dropout(x)\n",
    "        x = self.fc(x)\n",
    "        \n",
    "        return x"
   ]
  },
  {
   "cell_type": "markdown",
   "metadata": {},
   "source": [
    "Для этой же цели прикрутим L2-penalty - укажем в оптимизаторе параметр weight_decay = 1e-05."
   ]
  },
  {
   "cell_type": "code",
   "execution_count": 30,
   "metadata": {
    "_uuid": "c18efb46ef3e78bfe85eb06b4fdcb9b8a7ab9cf4",
    "collapsed": true
   },
   "outputs": [],
   "source": [
    "class Trainer:\n",
    "    def __init__(self, model, train_iterator, test_iterator, valid_iterator):\n",
    "        self.model = model\n",
    "        self.train_iterator = train_iterator\n",
    "        self.test_iterator = test_iterator\n",
    "        self.valid_iterator = valid_iterator\n",
    "\n",
    "        self.optimizer = optim.Adam(self.model.parameters(), weight_decay=1e-05)\n",
    "        self.scheduler = optim.lr_scheduler.CosineAnnealingLR(self.optimizer, T_max=5)\n",
    "        self.criterion = nn.CrossEntropyLoss()\n",
    "        \n",
    "    def _train_epoch(self, iterator, curr_epoch):\n",
    "        self.model.train()\n",
    "        running_loss = 0\n",
    "\n",
    "        n_batches = len(iterator)\n",
    "        iterator = tqdm_notebook(iterator, total=n_batches, desc='epoch %d' % (curr_epoch), leave=True)\n",
    "\n",
    "        for i, batch in enumerate(iterator):\n",
    "            self.optimizer.zero_grad()\n",
    "\n",
    "            pred = self.model(batch)\n",
    "            loss = self.criterion(pred, batch.label)\n",
    "            loss.backward()\n",
    "            self.optimizer.step()\n",
    "\n",
    "            curr_loss = loss.data.cpu().detach().item()\n",
    "\n",
    "            loss_smoothing = i / (i+1)\n",
    "            running_loss = loss_smoothing * running_loss + (1 - loss_smoothing) * curr_loss\n",
    "\n",
    "            iterator.set_postfix(loss='%.5f' % running_loss)\n",
    "\n",
    "        return running_loss\n",
    "    \n",
    "    def _test_epoch(self, iterator):\n",
    "        self.model.eval()\n",
    "        epoch_loss = 0\n",
    "\n",
    "        n_batches = len(iterator)\n",
    "        scores = []\n",
    "        \n",
    "        with tt.no_grad():\n",
    "            for batch in iterator:\n",
    "                pred = model(batch)\n",
    "                loss = self.criterion(pred, batch.label)\n",
    "                epoch_loss += loss.data.item()\n",
    "                \n",
    "                pred = tt.softmax(pred, dim=1)\n",
    "                pred = tt.argmax(pred, dim=1)\n",
    "                pred = list(pred.cuda().cpu().numpy())\n",
    "                true = list(batch.label.cuda().cpu().numpy())\n",
    "                scores.append(accuracy_score(true, pred))\n",
    "\n",
    "        return epoch_loss / n_batches, np.mean(scores)\n",
    "\n",
    "    def nn_train(self, n_epochs):\n",
    "        early_stopping = 5\n",
    "        prev_loss = 100500\n",
    "        es_epochs = 0\n",
    "        best_epoch = None\n",
    "        history = pd.DataFrame()\n",
    "        best_accuracy = 0.0\n",
    "\n",
    "        for epoch in range(n_epochs):\n",
    "            train_loss = self._train_epoch(self.train_iterator, epoch)\n",
    "            valid_loss, current_accuracy = self._test_epoch(self.valid_iterator)\n",
    "            \n",
    "            if current_accuracy > best_accuracy:\n",
    "                tt.save(model.state_dict(), 'best_model')\n",
    "                best_accuracy = current_accuracy\n",
    "\n",
    "            valid_loss = valid_loss\n",
    "            print('validation loss %.5f' % valid_loss)\n",
    "            print('accuracy score %.5f' % current_accuracy)\n",
    "\n",
    "            record = {'epoch': epoch, 'train_loss': train_loss, 'valid_loss': valid_loss}\n",
    "            history = history.append(record, ignore_index=True)\n",
    "\n",
    "            if early_stopping > 0:\n",
    "                if valid_loss > prev_loss:\n",
    "                    es_epochs += 1\n",
    "                else:\n",
    "                    es_epochs = 0\n",
    "\n",
    "                if es_epochs >= early_stopping:\n",
    "                    best_epoch = history[history.valid_loss == history.valid_loss.min()].iloc[0]\n",
    "                    print('Early stopping! best epoch: %d val %.5f' % (best_epoch['epoch'], best_epoch['valid_loss']))\n",
    "                    break\n",
    "\n",
    "                prev_loss = min(prev_loss, valid_loss)"
   ]
  },
  {
   "cell_type": "code",
   "execution_count": 20,
   "metadata": {
    "_uuid": "c488316e366c8146fedfe95208fe151e6f373c99",
    "collapsed": true,
    "scrolled": true
   },
   "outputs": [],
   "source": [
    "tt.cuda.empty_cache()\n",
    "batch_size = 32\n",
    "\n",
    "train_iterator, valid_iterator, test_iterator = BucketIterator.splits((train, valid, test),\n",
    "                                                                      batch_sizes=(batch_size, batch_size, batch_size),\n",
    "                                                                      shuffle=True,\n",
    "                                                                      sort_key=lambda x: len(x.comment),\n",
    "                                                                      sort_within_batch=True)"
   ]
  },
  {
   "cell_type": "markdown",
   "metadata": {
    "_uuid": "94545351cef039be1613d74c16e21936016ec363"
   },
   "source": [
    "Разгоняемся..."
   ]
  },
  {
   "cell_type": "code",
   "execution_count": 21,
   "metadata": {
    "_uuid": "262142cfc7049c77c5c3775a642ad860df23bd61"
   },
   "outputs": [
    {
     "name": "stdout",
     "output_type": "stream",
     "text": [
      "cuda:0\n"
     ]
    }
   ],
   "source": [
    "tt.backends.cudnn.benchmark = True\n",
    "\n",
    "device = tt.device(\"cuda:0\" if tt.cuda.is_available() else \"cpu\")\n",
    "print(device)"
   ]
  },
  {
   "cell_type": "code",
   "execution_count": 31,
   "metadata": {
    "_kg_hide-input": false,
    "_kg_hide-output": false,
    "_uuid": "d451c8ffb727d480297cc9588b1f6441123e0cb0"
   },
   "outputs": [
    {
     "data": {
      "application/vnd.jupyter.widget-view+json": {
       "model_id": "5eb9b5ebf728401f9442ae6b7a764daf",
       "version_major": 2,
       "version_minor": 0
      },
      "text/plain": [
       "HBox(children=(IntProgress(value=0, description='epoch 0', max=20217, style=ProgressStyle(description_width='i…"
      ]
     },
     "metadata": {},
     "output_type": "display_data"
    },
    {
     "name": "stdout",
     "output_type": "stream",
     "text": [
      "validation loss 0.57535\n",
      "accuracy score 0.69186\n"
     ]
    },
    {
     "data": {
      "application/vnd.jupyter.widget-view+json": {
       "model_id": "b60a36b9e18d4b9b933a8333bc6b77c7",
       "version_major": 2,
       "version_minor": 0
      },
      "text/plain": [
       "HBox(children=(IntProgress(value=0, description='epoch 1', max=20217, style=ProgressStyle(description_width='i…"
      ]
     },
     "metadata": {},
     "output_type": "display_data"
    },
    {
     "name": "stdout",
     "output_type": "stream",
     "text": [
      "validation loss 0.57158\n",
      "accuracy score 0.69606\n"
     ]
    },
    {
     "data": {
      "application/vnd.jupyter.widget-view+json": {
       "model_id": "2ddfa6af28fa4a7ba073e3389d57fa5f",
       "version_major": 2,
       "version_minor": 0
      },
      "text/plain": [
       "HBox(children=(IntProgress(value=0, description='epoch 2', max=20217, style=ProgressStyle(description_width='i…"
      ]
     },
     "metadata": {},
     "output_type": "display_data"
    },
    {
     "name": "stdout",
     "output_type": "stream",
     "text": [
      "validation loss 0.57048\n",
      "accuracy score 0.69629\n"
     ]
    },
    {
     "data": {
      "application/vnd.jupyter.widget-view+json": {
       "model_id": "1cb856540e3744328eb06041793e3b08",
       "version_major": 2,
       "version_minor": 0
      },
      "text/plain": [
       "HBox(children=(IntProgress(value=0, description='epoch 3', max=20217, style=ProgressStyle(description_width='i…"
      ]
     },
     "metadata": {},
     "output_type": "display_data"
    },
    {
     "name": "stdout",
     "output_type": "stream",
     "text": [
      "validation loss 0.56810\n",
      "accuracy score 0.69896\n"
     ]
    },
    {
     "data": {
      "application/vnd.jupyter.widget-view+json": {
       "model_id": "551ea86bca8b4f3cae7f2cbfa54c6def",
       "version_major": 2,
       "version_minor": 0
      },
      "text/plain": [
       "HBox(children=(IntProgress(value=0, description='epoch 4', max=20217, style=ProgressStyle(description_width='i…"
      ]
     },
     "metadata": {},
     "output_type": "display_data"
    },
    {
     "name": "stdout",
     "output_type": "stream",
     "text": [
      "validation loss 0.56874\n",
      "accuracy score 0.69938\n"
     ]
    },
    {
     "data": {
      "application/vnd.jupyter.widget-view+json": {
       "model_id": "80fdc4b1077f4ba98f1ef1e91aed19a3",
       "version_major": 2,
       "version_minor": 0
      },
      "text/plain": [
       "HBox(children=(IntProgress(value=0, description='epoch 5', max=20217, style=ProgressStyle(description_width='i…"
      ]
     },
     "metadata": {},
     "output_type": "display_data"
    },
    {
     "name": "stdout",
     "output_type": "stream",
     "text": [
      "validation loss 0.56740\n",
      "accuracy score 0.69840\n"
     ]
    },
    {
     "data": {
      "application/vnd.jupyter.widget-view+json": {
       "model_id": "1b1d908604394591b1fded0ce665b154",
       "version_major": 2,
       "version_minor": 0
      },
      "text/plain": [
       "HBox(children=(IntProgress(value=0, description='epoch 6', max=20217, style=ProgressStyle(description_width='i…"
      ]
     },
     "metadata": {},
     "output_type": "display_data"
    },
    {
     "name": "stdout",
     "output_type": "stream",
     "text": [
      "validation loss 0.56699\n",
      "accuracy score 0.69936\n"
     ]
    },
    {
     "data": {
      "application/vnd.jupyter.widget-view+json": {
       "model_id": "d21550d5f6f840f7836c24ae7ef4ce52",
       "version_major": 2,
       "version_minor": 0
      },
      "text/plain": [
       "HBox(children=(IntProgress(value=0, description='epoch 7', max=20217, style=ProgressStyle(description_width='i…"
      ]
     },
     "metadata": {},
     "output_type": "display_data"
    },
    {
     "name": "stdout",
     "output_type": "stream",
     "text": [
      "validation loss 0.56920\n",
      "accuracy score 0.69792\n"
     ]
    },
    {
     "data": {
      "application/vnd.jupyter.widget-view+json": {
       "model_id": "d3d02522a32942e99181b20f7720778b",
       "version_major": 2,
       "version_minor": 0
      },
      "text/plain": [
       "HBox(children=(IntProgress(value=0, description='epoch 8', max=20217, style=ProgressStyle(description_width='i…"
      ]
     },
     "metadata": {},
     "output_type": "display_data"
    },
    {
     "name": "stdout",
     "output_type": "stream",
     "text": [
      "validation loss 0.56840\n",
      "accuracy score 0.69918\n"
     ]
    },
    {
     "data": {
      "application/vnd.jupyter.widget-view+json": {
       "model_id": "ff624f2225d94aa0a900afde3a29b812",
       "version_major": 2,
       "version_minor": 0
      },
      "text/plain": [
       "HBox(children=(IntProgress(value=0, description='epoch 9', max=20217, style=ProgressStyle(description_width='i…"
      ]
     },
     "metadata": {},
     "output_type": "display_data"
    },
    {
     "name": "stdout",
     "output_type": "stream",
     "text": [
      "validation loss 0.56977\n",
      "accuracy score 0.69760\n"
     ]
    },
    {
     "data": {
      "application/vnd.jupyter.widget-view+json": {
       "model_id": "0789a84b341d46e0915604edddada7db",
       "version_major": 2,
       "version_minor": 0
      },
      "text/plain": [
       "HBox(children=(IntProgress(value=0, description='epoch 10', max=20217, style=ProgressStyle(description_width='…"
      ]
     },
     "metadata": {},
     "output_type": "display_data"
    },
    {
     "name": "stdout",
     "output_type": "stream",
     "text": [
      "validation loss 0.57355\n",
      "accuracy score 0.69643\n"
     ]
    },
    {
     "data": {
      "application/vnd.jupyter.widget-view+json": {
       "model_id": "1311452a6b51440da656000d1e38961d",
       "version_major": 2,
       "version_minor": 0
      },
      "text/plain": [
       "HBox(children=(IntProgress(value=0, description='epoch 11', max=20217, style=ProgressStyle(description_width='…"
      ]
     },
     "metadata": {},
     "output_type": "display_data"
    },
    {
     "name": "stdout",
     "output_type": "stream",
     "text": [
      "validation loss 0.57721\n",
      "accuracy score 0.69662\n",
      "Early stopping! best epoch: 6 val 0.56699\n"
     ]
    }
   ],
   "source": [
    "model = MyRNN(device,\n",
    "              len(TEXT.vocab.itos),\n",
    "              embed_size=100,\n",
    "              hidden_size=128)\n",
    "model.to(device)\n",
    "\n",
    "trainer = Trainer(model, train_iterator, test_iterator, valid_iterator)\n",
    "trainer.nn_train(50)"
   ]
  },
  {
   "cell_type": "markdown",
   "metadata": {
    "_uuid": "59f1b100900c7aa160227934b1e82f051466a409"
   },
   "source": [
    "## Evaluation"
   ]
  },
  {
   "cell_type": "code",
   "execution_count": 32,
   "metadata": {
    "_uuid": "fd558849e81aaf5dbf4af37b57461a4aad16aac2",
    "collapsed": true,
    "scrolled": true
   },
   "outputs": [],
   "source": [
    "scores = []\n",
    "model.load_state_dict(tt.load('best_model'))\n",
    "\n",
    "for batch in test_iterator:\n",
    "    pred = model(batch)\n",
    "    pred = tt.softmax(pred, dim=1)\n",
    "    pred = tt.argmax(pred, dim=1)\n",
    "    pred = list(pred.cuda().cpu().numpy())\n",
    "    true = list(batch.label.cuda().cpu().numpy())\n",
    "    scores.append(accuracy_score(true, pred))"
   ]
  },
  {
   "cell_type": "code",
   "execution_count": 33,
   "metadata": {
    "_uuid": "69bcfcb0ee0674ea98815489fd4ab3ca86bc1991",
    "scrolled": true
   },
   "outputs": [
    {
     "name": "stdout",
     "output_type": "stream",
     "text": [
      "0.701968941552275\n"
     ]
    }
   ],
   "source": [
    "print(np.mean(scores))"
   ]
  },
  {
   "cell_type": "markdown",
   "metadata": {},
   "source": [
    "Кажется, бэйзлайн побит."
   ]
  }
 ],
 "metadata": {
  "kernelspec": {
   "display_name": "Python 3",
   "language": "python",
   "name": "python3"
  },
  "language_info": {
   "codemirror_mode": {
    "name": "ipython",
    "version": 3
   },
   "file_extension": ".py",
   "mimetype": "text/x-python",
   "name": "python",
   "nbconvert_exporter": "python",
   "pygments_lexer": "ipython3",
   "version": "3.6.3"
  }
 },
 "nbformat": 4,
 "nbformat_minor": 1
}
