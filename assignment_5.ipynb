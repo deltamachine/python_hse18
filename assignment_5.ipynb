{
 "cells": [
  {
   "cell_type": "markdown",
   "metadata": {},
   "source": [
    "# Assignment 5\n",
    "\n",
    "Explore embeddings and CNN\n",
    "\n",
    "Using tweeter dataset ( https://www.kaggle.com/utathya/sentiment-analysis-of-imdb-reviews/data) and already existing splitting on train/test sets, develop a model for sentiment analysis.  \n",
    "Your quality metric is crossentropy (`sklearn.metrics.log_loss`, `torch.nn.CrossEntropy`)  \n",
    "\n",
    "Your model should be based on CNN and written in pytorch `torch.nn.Conv1d`.\n",
    "\n",
    "Explore 3 ways, which of them has better perfomance on test set?:\n",
    "1. Using pretrained word embeddings with frozen weights. `torch.nn.Embedding.from_pretrained(embed_matrix, frozen=True)`.\n",
    "You can download any pretrained embeddings you like.\n",
    "2. Train embeddings yourself, initializing from pretrained weights. `torch.nn.Embedding.from_pretrained(embed_matrix, frozen=False)`\n",
    "3. Train embeddings yourself with random initialization `torch.nn.init.uniform_(nn.Embeddings.weights)`\n",
    "\n",
    "Experiment with model arhitecture (as bonus):\n",
    "1. activation functions RELU, ELU, etc `torch.nn.functional.relu, torch.nn.functional.elu`  \n",
    "1. Stack layers\n",
    "1. max or average pooling (`torch.nn.functional.max_pool1d, torch.nn.functional.avg_pool1d`)\n",
    "1. Dropout\n",
    "\n",
    "\n",
    "Other requirements:\n",
    "1. Your training routine should use any learning scheduler (torch.nn.optim.lr_scheduler).  \n",
    "Plot current learning rate against number of epochs, e.g. `tt.optim.Adam.param_groups[0]['lr']`.  \n",
    "\n",
    "1. Your training routine should use early stopping on validation dataset\n",
    "Use hold out validation scheme in your experiments.\n",
    "\n",
    "1. You should use torchtext for parsing \n",
    "\n",
    "**Note**:\n",
    "This assignment has no baseline. Instead, **validation curves** for explored architectures are expected.  \n",
    "Validation curve is plot of model test score against model hyperparameter value.  \n",
    "example (https://scikit-learn.org/stable/auto_examples/model_selection/plot_validation_curve.html) . \n",
    "Though, using `sklearn.model_selection.validation_curve` is not necessary.  \n",
    "\n",
    "\n",
    "\n",
    "\n"
   ]
  },
  {
   "cell_type": "code",
   "execution_count": 35,
   "metadata": {
    "collapsed": false
   },
   "outputs": [],
   "source": [
    "import pandas as pd\n",
    "import numpy as np\n",
    "import nltk\n",
    "import gensim\n",
    "import pickle\n",
    "import torch as tt\n",
    "import torch.nn as nn\n",
    "import torch.nn.functional as F\n",
    "import torch.optim as optim\n",
    "from torchtext.data import Field, LabelField, BucketIterator, TabularDataset, Iterator, Dataset\n",
    "from string import punctuation\n",
    "\n",
    "import matplotlib.pyplot as plt\n",
    "plt.style.use('ggplot')\n",
    "\n",
    "import warnings\n",
    "warnings.simplefilter('ignore')\n",
    "\n",
    "%matplotlib inline\n",
    "\n",
    "SEED = 42\n",
    "np.random.seed(SEED)"
   ]
  },
  {
   "cell_type": "markdown",
   "metadata": {},
   "source": [
    "## Data"
   ]
  },
  {
   "cell_type": "code",
   "execution_count": 2,
   "metadata": {
    "collapsed": false
   },
   "outputs": [
    {
     "data": {
      "text/html": [
       "<div>\n",
       "<table border=\"1\" class=\"dataframe\">\n",
       "  <thead>\n",
       "    <tr style=\"text-align: right;\">\n",
       "      <th></th>\n",
       "      <th>Unnamed: 0</th>\n",
       "      <th>type</th>\n",
       "      <th>review</th>\n",
       "      <th>label</th>\n",
       "      <th>file</th>\n",
       "    </tr>\n",
       "  </thead>\n",
       "  <tbody>\n",
       "    <tr>\n",
       "      <th>0</th>\n",
       "      <td>0</td>\n",
       "      <td>test</td>\n",
       "      <td>Once again Mr. Costner has dragged out a movie...</td>\n",
       "      <td>neg</td>\n",
       "      <td>0_2.txt</td>\n",
       "    </tr>\n",
       "    <tr>\n",
       "      <th>1</th>\n",
       "      <td>1</td>\n",
       "      <td>test</td>\n",
       "      <td>This is an example of why the majority of acti...</td>\n",
       "      <td>neg</td>\n",
       "      <td>10000_4.txt</td>\n",
       "    </tr>\n",
       "    <tr>\n",
       "      <th>2</th>\n",
       "      <td>2</td>\n",
       "      <td>test</td>\n",
       "      <td>First of all I hate those moronic rappers, who...</td>\n",
       "      <td>neg</td>\n",
       "      <td>10001_1.txt</td>\n",
       "    </tr>\n",
       "    <tr>\n",
       "      <th>3</th>\n",
       "      <td>3</td>\n",
       "      <td>test</td>\n",
       "      <td>Not even the Beatles could write songs everyon...</td>\n",
       "      <td>neg</td>\n",
       "      <td>10002_3.txt</td>\n",
       "    </tr>\n",
       "    <tr>\n",
       "      <th>4</th>\n",
       "      <td>4</td>\n",
       "      <td>test</td>\n",
       "      <td>Brass pictures (movies is not a fitting word f...</td>\n",
       "      <td>neg</td>\n",
       "      <td>10003_3.txt</td>\n",
       "    </tr>\n",
       "  </tbody>\n",
       "</table>\n",
       "</div>"
      ],
      "text/plain": [
       "   Unnamed: 0  type                                             review label  \\\n",
       "0           0  test  Once again Mr. Costner has dragged out a movie...   neg   \n",
       "1           1  test  This is an example of why the majority of acti...   neg   \n",
       "2           2  test  First of all I hate those moronic rappers, who...   neg   \n",
       "3           3  test  Not even the Beatles could write songs everyon...   neg   \n",
       "4           4  test  Brass pictures (movies is not a fitting word f...   neg   \n",
       "\n",
       "          file  \n",
       "0      0_2.txt  \n",
       "1  10000_4.txt  \n",
       "2  10001_1.txt  \n",
       "3  10002_3.txt  \n",
       "4  10003_3.txt  "
      ]
     },
     "execution_count": 2,
     "metadata": {},
     "output_type": "execute_result"
    }
   ],
   "source": [
    "df = pd.read_csv('imdb_master.csv',  encoding='ISO-8859-1')\n",
    "df.head()"
   ]
  },
  {
   "cell_type": "markdown",
   "metadata": {},
   "source": [
    "Беру старый-добрый токенайзер от NLTK вместо Spacy, потому что не могу поставить Spacy по-человечески, а время поджимает."
   ]
  },
  {
   "cell_type": "code",
   "execution_count": 3,
   "metadata": {
    "collapsed": false
   },
   "outputs": [],
   "source": [
    "def tokenizer(text):\n",
    "    return [tok for tok in nltk.tokenize.wordpunct_tokenize(text) if tok not in punctuation]"
   ]
  },
  {
   "cell_type": "code",
   "execution_count": 4,
   "metadata": {
    "collapsed": true
   },
   "outputs": [],
   "source": [
    "train_df = df[df['type'] == 'train'][['review', 'label']]\n",
    "test_df = df[df['type'] == 'test'][['review', 'label']]\n",
    "\n",
    "pd.DataFrame.to_csv(train_df, 'train_df.csv', index=False)\n",
    "pd.DataFrame.to_csv(test_df, 'test_df.csv', index=False)"
   ]
  },
  {
   "cell_type": "code",
   "execution_count": 5,
   "metadata": {
    "collapsed": true
   },
   "outputs": [],
   "source": [
    "classes = {'neg': 0, 'unsup': 1, 'pos': 2}\n",
    "\n",
    "TEXT = Field(include_lengths=True, batch_first=True, \n",
    "             tokenize=tokenizer,\n",
    "             eos_token='<eos>',\n",
    "             lower=True,\n",
    "             stop_words=nltk.corpus.stopwords.words('english'))\n",
    "\n",
    "LABEL = LabelField(dtype=tt.int64, use_vocab=True, preprocessing=lambda x: classes[x])"
   ]
  },
  {
   "cell_type": "code",
   "execution_count": 6,
   "metadata": {
    "collapsed": true
   },
   "outputs": [],
   "source": [
    "train = TabularDataset('train_df.csv', format='csv', fields=[('review', TEXT), ('label', LABEL)], skip_header=True)\n",
    "test = TabularDataset('test_df.csv', format='csv', fields=[('review', TEXT), ('label', LABEL)], skip_header=True)"
   ]
  },
  {
   "cell_type": "code",
   "execution_count": 7,
   "metadata": {
    "collapsed": true
   },
   "outputs": [],
   "source": [
    "train, valid = train.split(0.7, stratified=True)"
   ]
  },
  {
   "cell_type": "markdown",
   "metadata": {},
   "source": [
    "Будем использовать эмбеддинги GloVe с dimension=100."
   ]
  },
  {
   "cell_type": "code",
   "execution_count": 8,
   "metadata": {
    "collapsed": false
   },
   "outputs": [
    {
     "name": "stderr",
     "output_type": "stream",
     "text": [
      ".vector_cache/glove.6B.zip: 862MB [12:45, 1.13MB/s]                          \n",
      "100%|█████████▉| 399408/400000 [00:20<00:00, 18490.11it/s]"
     ]
    },
    {
     "data": {
      "text/plain": [
       "29466"
      ]
     },
     "execution_count": 8,
     "metadata": {},
     "output_type": "execute_result"
    },
    {
     "name": "stderr",
     "output_type": "stream",
     "text": [
      "\r",
      "100%|█████████▉| 399408/400000 [00:40<00:00, 18490.11it/s]"
     ]
    }
   ],
   "source": [
    "TEXT.build_vocab(train, min_freq=10, vectors=\"glove.6B.100d\")\n",
    "len(TEXT.vocab.itos)"
   ]
  },
  {
   "cell_type": "code",
   "execution_count": 9,
   "metadata": {
    "collapsed": true
   },
   "outputs": [],
   "source": [
    "LABEL.build_vocab(train)"
   ]
  },
  {
   "cell_type": "markdown",
   "metadata": {},
   "source": [
    "## Training"
   ]
  },
  {
   "cell_type": "code",
   "execution_count": 10,
   "metadata": {
    "collapsed": true
   },
   "outputs": [],
   "source": [
    "class CustomCNN(nn.Module):\n",
    "    def __init__(self, vocab_size, embed_size, hidden_size, kernels, glove_vectors, mode):\n",
    "        super(CustomCNN, self).__init__()\n",
    "        \n",
    "        if mode == 'frozen':\n",
    "            self.embedding = nn.Embedding.from_pretrained(glove_vectors, freeze=True)\n",
    "        elif mode == 'not_frozen':\n",
    "            self.embedding = nn.Embedding.from_pretrained(glove_vectors, freeze=False)\n",
    "        elif mode == 'random':\n",
    "            self.embedding = nn.Embedding.from_pretrained(nn.init.uniform_(tt.ones((vocab_size, 100))), freeze=False)\n",
    "        \n",
    "        self.convs = nn.ModuleList([nn.Conv1d(embed_size, hidden_size, k, padding=5) for k in kernels])\n",
    "        self.fc = nn.Linear(hidden_size * len(kernels), 3)\n",
    "        \n",
    "    def forward(self, x):   \n",
    "        x = self.embedding(x)\n",
    "        x = x.transpose(1, 2)   \n",
    "        concatenated = []\n",
    "        \n",
    "        for conv in self.convs:\n",
    "            z = conv(x)\n",
    "            z = F.avg_pool1d(z, kernel_size=z.size(2))\n",
    "            z = z.squeeze(2)\n",
    "            concatenated.append(z)\n",
    "            \n",
    "        x = tt.cat(concatenated, 1)\n",
    "        x = self.fc(x)\n",
    "        \n",
    "        return x"
   ]
  },
  {
   "cell_type": "code",
   "execution_count": 11,
   "metadata": {
    "collapsed": true
   },
   "outputs": [],
   "source": [
    "class Trainer:\n",
    "    def __init__(self, model, train_iterator, test_iterator, valid_iterator):\n",
    "        self.model = model\n",
    "        self.train_iterator = train_iterator\n",
    "        self.test_iterator = test_iterator\n",
    "        self.valid_iterator = valid_iterator\n",
    "        \n",
    "        self.optimizer = optim.Adam(self.model.parameters())\n",
    "        self.scheduler = optim.lr_scheduler.ReduceLROnPlateau(self.optimizer, patience=5, verbose=True, cooldown=5)\n",
    "        self.criterion = nn.CrossEntropyLoss()\n",
    "        \n",
    "    def train(self, n_epochs):\n",
    "        min_loss = np.inf\n",
    "        early_stop = 0\n",
    "        learning_rate = []\n",
    "        \n",
    "        for i in range(n_epochs):\n",
    "            train_loss = 0\n",
    "            \n",
    "            for batch in self.train_iterator:\n",
    "                self.optimizer.zero_grad()\n",
    "                y_pred = self.model.forward(batch.review[0])\n",
    "                loss = self.criterion(y_pred, batch.label)\n",
    "                train_loss += loss\n",
    "                loss.backward()\n",
    "                self.optimizer.step()\n",
    "                \n",
    "            train_loss = train_loss / len(self.train_iterator)         \n",
    "            test_loss = 0\n",
    "            \n",
    "            with tt.no_grad():\n",
    "                for batch in self.test_iterator:\n",
    "                    test_pred = self.model.forward(batch.review[0])\n",
    "                    loss = self.criterion(test_pred, batch.label)\n",
    "                    test_loss += loss\n",
    "            \n",
    "            test_loss = test_loss / len(self.test_iterator)           \n",
    "            self.scheduler.step(test_loss)\n",
    "            learning_rate.append(self.optimizer.param_groups[0]['lr'])\n",
    "            \n",
    "            if test_loss < min_loss:\n",
    "                min_loss = test_loss\n",
    "                early_stop = 0\n",
    "            elif early_stop < 10:\n",
    "                early_stop += 1\n",
    "            else:\n",
    "                break\n",
    "                \n",
    "            print('Epoch %s: train loss - %s, test_loss - %s' % (str(i), float(train_loss), float(test_loss)))\n",
    "                \n",
    "        return learning_rate\n",
    "    \n",
    "    def evaluate(self, mode):\n",
    "        total_loss = 0\n",
    "        \n",
    "        with tt.no_grad():\n",
    "            for batch in self.valid_iterator:\n",
    "                y_pred = self.model.forward(batch.review[0])\n",
    "                loss = self.criterion(y_pred, batch.label)\n",
    "                total_loss += loss\n",
    "                \n",
    "        print('%s loss: %s' % (mode, float(total_loss / len(self.valid_iterator))))\n",
    "                    \n",
    "        return float(total_loss / len(self.valid_iterator))"
   ]
  },
  {
   "cell_type": "code",
   "execution_count": 12,
   "metadata": {
    "collapsed": false
   },
   "outputs": [],
   "source": [
    "tt.cuda.empty_cache()\n",
    "batch_size = 32\n",
    "\n",
    "train_iterator, valid_iterator, test_iterator = BucketIterator.splits((train, valid, test), \n",
    "                                                                       batch_sizes=(batch_size, batch_size, batch_size),\n",
    "                                                                       shuffle=True,\n",
    "                                                                       sort_key=lambda x: len(x.review))"
   ]
  },
  {
   "cell_type": "markdown",
   "metadata": {},
   "source": [
    "### 1. Pretrained word embeddings with frozen weights"
   ]
  },
  {
   "cell_type": "code",
   "execution_count": 13,
   "metadata": {
    "collapsed": false
   },
   "outputs": [
    {
     "name": "stdout",
     "output_type": "stream",
     "text": [
      "Epoch 0: train loss - 0.8317148685455322, test_loss - 1.7207719087600708\n",
      "Epoch 1: train loss - 0.8152943253517151, test_loss - 1.5500537157058716\n",
      "Epoch 2: train loss - 0.8140267133712769, test_loss - 1.4663772583007812\n",
      "Epoch 3: train loss - 0.8124980926513672, test_loss - 1.5018937587738037\n",
      "Epoch 4: train loss - 0.8121437430381775, test_loss - 1.626752495765686\n",
      "Epoch 5: train loss - 0.8115540742874146, test_loss - 1.366530179977417\n",
      "Epoch 6: train loss - 0.810383677482605, test_loss - 1.4011476039886475\n",
      "Epoch 7: train loss - 0.8105039596557617, test_loss - 1.7180227041244507\n",
      "Epoch 8: train loss - 0.810346245765686, test_loss - 2.0324437618255615\n",
      "Epoch 9: train loss - 0.8090224266052246, test_loss - 1.427108883857727\n"
     ]
    }
   ],
   "source": [
    "fr_model = CustomCNN(vocab_size=len(TEXT.vocab.vectors),\n",
    "                     embed_size=100,\n",
    "                     hidden_size=128,\n",
    "                     kernels=[2,3,4,5],\n",
    "                     glove_vectors=TEXT.vocab.vectors,\n",
    "                     mode='frozen')\n",
    "\n",
    "trainer = Trainer(fr_model, train_iterator, test_iterator, valid_iterator)\n",
    "fr_lr = trainer.train(10)"
   ]
  },
  {
   "cell_type": "code",
   "execution_count": 14,
   "metadata": {
    "collapsed": false
   },
   "outputs": [
    {
     "name": "stdout",
     "output_type": "stream",
     "text": [
      "First \"frosen\" mode loss: 1.0068987607955933\n"
     ]
    }
   ],
   "source": [
    "fr_val = trainer.evaluate('First \"frosen\" mode')"
   ]
  },
  {
   "cell_type": "markdown",
   "metadata": {},
   "source": [
    "### 2. Initializing from pretrained weights"
   ]
  },
  {
   "cell_type": "code",
   "execution_count": 15,
   "metadata": {
    "collapsed": false
   },
   "outputs": [
    {
     "name": "stdout",
     "output_type": "stream",
     "text": [
      "Epoch 0: train loss - 0.7909947037696838, test_loss - 1.4683773517608643\n",
      "Epoch 1: train loss - 0.6473090648651123, test_loss - 2.0606770515441895\n",
      "Epoch 2: train loss - 0.5150255560874939, test_loss - 3.6005849838256836\n",
      "Epoch 3: train loss - 0.42406898736953735, test_loss - 6.300321102142334\n",
      "Epoch 4: train loss - 0.3652002811431885, test_loss - 9.373689651489258\n",
      "Epoch 5: train loss - 0.3158486783504486, test_loss - 9.184029579162598\n",
      "Epoch     6: reducing learning rate of group 0 to 1.0000e-04.\n",
      "Epoch 6: train loss - 0.2812400460243225, test_loss - 9.677691459655762\n",
      "Epoch 7: train loss - 0.19202645123004913, test_loss - 12.784418106079102\n",
      "Epoch 8: train loss - 0.17434649169445038, test_loss - 14.928235054016113\n",
      "Epoch 9: train loss - 0.1636325716972351, test_loss - 17.006771087646484\n"
     ]
    }
   ],
   "source": [
    "nfr_model = CustomCNN(vocab_size=len(TEXT.vocab.vectors),\n",
    "                   embed_size=100,\n",
    "                   hidden_size=128,\n",
    "                   kernels=[2,3,4,5],\n",
    "                   glove_vectors=TEXT.vocab.vectors,\n",
    "                   mode='not_frozen')\n",
    "\n",
    "trainer = Trainer(nfr_model, train_iterator, test_iterator, valid_iterator)\n",
    "nfr_lr = trainer.train(10)"
   ]
  },
  {
   "cell_type": "code",
   "execution_count": 16,
   "metadata": {
    "collapsed": false
   },
   "outputs": [
    {
     "name": "stdout",
     "output_type": "stream",
     "text": [
      "Second \"not frozen\" mode loss: 5.203453540802002\n"
     ]
    }
   ],
   "source": [
    "nfr_val = trainer.evaluate('Second \"not frozen\" mode')"
   ]
  },
  {
   "cell_type": "markdown",
   "metadata": {},
   "source": [
    "### 3. Random initialization"
   ]
  },
  {
   "cell_type": "code",
   "execution_count": 17,
   "metadata": {
    "collapsed": false
   },
   "outputs": [
    {
     "name": "stdout",
     "output_type": "stream",
     "text": [
      "Epoch 0: train loss - 0.8757027387619019, test_loss - 1.6639958620071411\n",
      "Epoch 1: train loss - 0.7856147885322571, test_loss - 1.5791207551956177\n",
      "Epoch 2: train loss - 0.7073385715484619, test_loss - 1.495008111000061\n",
      "Epoch 3: train loss - 0.641311764717102, test_loss - 2.036668300628662\n",
      "Epoch 4: train loss - 0.5635643601417542, test_loss - 2.8929102420806885\n",
      "Epoch 5: train loss - 0.48698312044143677, test_loss - 4.522313594818115\n",
      "Epoch 6: train loss - 0.4256249666213989, test_loss - 4.4446210861206055\n",
      "Epoch 7: train loss - 0.3783968687057495, test_loss - 6.259246826171875\n",
      "Epoch     8: reducing learning rate of group 0 to 1.0000e-04.\n",
      "Epoch 8: train loss - 0.34115326404571533, test_loss - 7.4834794998168945\n",
      "Epoch 9: train loss - 0.255906879901886, test_loss - 9.596759796142578\n"
     ]
    }
   ],
   "source": [
    "random_model = CustomCNN(vocab_size=len(TEXT.vocab.vectors),\n",
    "                   embed_size=100,\n",
    "                   hidden_size=128,\n",
    "                   kernels=[2,3,4,5],\n",
    "                   glove_vectors=TEXT.vocab.vectors,\n",
    "                   mode='random')\n",
    "\n",
    "trainer = Trainer(random_model, train_iterator, test_iterator, valid_iterator)\n",
    "random_lr = trainer.train(10)"
   ]
  },
  {
   "cell_type": "code",
   "execution_count": 18,
   "metadata": {
    "collapsed": false
   },
   "outputs": [
    {
     "name": "stdout",
     "output_type": "stream",
     "text": [
      "Third \"random\" mode loss: 3.156709909439087\n"
     ]
    }
   ],
   "source": [
    "random_val = trainer.evaluate('Third \"random\" mode')"
   ]
  },
  {
   "cell_type": "markdown",
   "metadata": {},
   "source": [
    "## Visual information"
   ]
  },
  {
   "cell_type": "markdown",
   "metadata": {},
   "source": [
    "### 1. Learning rate plots"
   ]
  },
  {
   "cell_type": "code",
   "execution_count": 39,
   "metadata": {
    "collapsed": false
   },
   "outputs": [
    {
     "data": {
      "text/plain": [
       "<matplotlib.text.Text at 0x7fa3c305b0b8>"
      ]
     },
     "execution_count": 39,
     "metadata": {},
     "output_type": "execute_result"
    },
    {
     "data": {
      "image/png": "[encoded data removed]",
      "text/plain": [
       "<matplotlib.figure.Figure at 0x7fa3c30a4c18>"
      ]
     },
     "metadata": {},
     "output_type": "display_data"
    }
   ],
   "source": [
    "plt.plot(range(0, len(fr_lr)), fr_lr, label='frozen', linewidth=3)\n",
    "plt.plot(range(0, len(nfr_lr)), nfr_lr, label='not frozen', linewidth=3)\n",
    "plt.plot(range(0, len(random_lr)), random_lr, label='random', linewidth=3)\n",
    "\n",
    "plt.legend()\n",
    "\n",
    "plt.xlabel('Epoch')\n",
    "plt.ylabel('Learning rate')\n",
    "plt.title('Learning rate plot for all modes')"
   ]
  },
  {
   "cell_type": "markdown",
   "metadata": {},
   "source": [
    "### 2. Validation curves"
   ]
  },
  {
   "cell_type": "code",
   "execution_count": 33,
   "metadata": {
    "collapsed": false
   },
   "outputs": [
    {
     "data": {
      "text/plain": [
       "<matplotlib.text.Text at 0x7fa3b20c6cf8>"
      ]
     },
     "execution_count": 33,
     "metadata": {},
     "output_type": "execute_result"
    },
    {
     "data": {
      "image/png": "[encoded data removed]",
      "text/plain": [
       "<matplotlib.figure.Figure at 0x7fa3c2adeb70>"
      ]
     },
     "metadata": {},
     "output_type": "display_data"
    }
   ],
   "source": [
    "plt.plot([2, 3, 4], [fr_val, nfr_val, random_val])\n",
    "plt.xticks([2, 3, 4], ['frozen', 'not frozen', 'random'])\n",
    "plt.xlabel('Modes')\n",
    "plt.ylabel('Cross-entropy loss (validation set)')\n",
    "plt.title('Validation curve')"
   ]
  }
 ],
 "metadata": {
  "anaconda-cloud": {},
  "kernelspec": {
   "display_name": "Python [default]",
   "language": "python",
   "name": "python3"
  },
  "language_info": {
   "codemirror_mode": {
    "name": "ipython",
    "version": 3
   },
   "file_extension": ".py",
   "mimetype": "text/x-python",
   "name": "python",
   "nbconvert_exporter": "python",
   "pygments_lexer": "ipython3",
   "version": "3.5.2"
  }
 },
 "nbformat": 4,
 "nbformat_minor": 2
}
